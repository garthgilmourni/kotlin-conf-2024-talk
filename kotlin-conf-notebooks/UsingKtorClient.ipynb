{
 "cells": [
  {
   "cell_type": "code",
   "metadata": {
    "collapsed": true,
    "ExecuteTime": {
     "end_time": "2024-05-11T16:17:41.964081Z",
     "start_time": "2024-05-11T16:17:41.833994Z"
    }
   },
   "source": "%use ktor-client\n",
   "outputs": [],
   "execution_count": 24
  },
  {
   "metadata": {
    "ExecuteTime": {
     "end_time": "2024-05-11T16:17:42.031502Z",
     "start_time": "2024-05-11T16:17:41.965468Z"
    }
   },
   "cell_type": "code",
   "source": [
    "import io.ktor.client.HttpClient\n",
    "import io.ktor.client.engine.*\n",
    "import io.ktor.client.engine.cio.*\n",
    "import io.ktor.client.request.*\n",
    "import io.ktor.client.plugins.*\n",
    "import io.ktor.client.plugins.compression.*\n",
    "import io.ktor.client.statement.*\n",
    "import io.ktor.http.*\n",
    "\n",
    "fun buildClient(rootURL: String) = HttpClient(CIO) {\n",
    "    install(ContentEncoding) {\n",
    "        gzip()\n",
    "        deflate()\n",
    "    }\n",
    "    defaultRequest {\n",
    "        url(rootURL)\n",
    "    }\n",
    "}"
   ],
   "outputs": [],
   "execution_count": 25
  },
  {
   "metadata": {
    "ExecuteTime": {
     "end_time": "2024-05-11T16:17:42.679914Z",
     "start_time": "2024-05-11T16:17:42.032815Z"
    }
   },
   "cell_type": "code",
   "source": [
    "import kotlinx.coroutines.runBlocking\n",
    "\n",
    "val rootURL = \"https://api.stackexchange.com/2.3/users/\"\n",
    "val userID = \"2635682\"\n",
    "val client = buildClient(rootURL)\n",
    "\n",
    "val data = runBlocking {\n",
    "    val response = client.get {\n",
    "        accept(ContentType.parse(\"text/plain\"))\n",
    "        url(\"$userID/questions?site=stackoverflow\")\n",
    "    }\n",
    "    \n",
    "    response.deserializeJson()\n",
    "}"
   ],
   "outputs": [],
   "execution_count": 26
  },
  {
   "metadata": {
    "ExecuteTime": {
     "end_time": "2024-05-11T16:28:15.863988Z",
     "start_time": "2024-05-11T16:28:15.798209Z"
    }
   },
   "cell_type": "code",
   "source": [
    "val titles = data.items.map { it.title }\n",
    "titles.forEach(::println)"
   ],
   "outputs": [
    {
     "name": "stdout",
     "output_type": "stream",
     "text": [
      "Signature of lambda return types in TypeScript\n",
      "Can Spring Parse and Inject Properties Files?\n",
      "How to map multiple HTTP Verbs to the same path in HTTP4K\n",
      "JAX-RS Client using Server Side Events prints the same items without completing\n",
      "How to ensure Reactive Stream completes with Spring WebFlux and WebSockets\n",
      "Cannot use &#39;subscribe&#39; or &#39;subscribeWith&#39; with &#39;ReactorNettyWebSocketClient&#39; in Kotlin\n",
      "How to alter test object properties in KotlinTest via interceptTestCase\n",
      "Purpose of third argument to &#39;reduce&#39; function in Java 8 functional programming\n",
      "Can a Sequence Diagram realistically capture your logic in the same depth as code?\n"
     ]
    }
   ],
   "execution_count": 30
  },
  {
   "metadata": {
    "ExecuteTime": {
     "end_time": "2024-05-11T16:17:42.756884Z",
     "start_time": "2024-05-11T16:17:42.755425Z"
    }
   },
   "cell_type": "code",
   "source": "",
   "outputs": [],
   "execution_count": 28
  },
  {
   "metadata": {
    "ExecuteTime": {
     "end_time": "2024-05-11T16:17:42.759869Z",
     "start_time": "2024-05-11T16:17:42.758119Z"
    }
   },
   "cell_type": "code",
   "source": "",
   "outputs": [],
   "execution_count": 29
  }
 ],
 "metadata": {
  "kernelspec": {
   "display_name": "Kotlin",
   "language": "kotlin",
   "name": "kotlin"
  },
  "language_info": {
   "name": "kotlin",
   "version": "1.9.23",
   "mimetype": "text/x-kotlin",
   "file_extension": ".kt",
   "pygments_lexer": "kotlin",
   "codemirror_mode": "text/x-kotlin",
   "nbconvert_exporter": ""
  }
 },
 "nbformat": 4,
 "nbformat_minor": 0
}
